{
 "cells": [
  {
   "cell_type": "code",
   "execution_count": null,
   "id": "2b1b3fb2",
   "metadata": {},
   "outputs": [],
   "source": [
    "#!/usr/bin/env python3\n",
    "import sys\n",
    "from pathlib import Path\n",
    "\n",
    "# Agregar el directorio raíz al path\n",
    "sys.path.append(str(Path.cwd().parent))\n",
    "\n",
    "from config.config import Config\n",
    "from training.trainer import train_model\n",
    "from training.utils import find_latest_checkpoint\n",
    "from utils.logging_config import setup_logging\n",
    "\n",
    "def main():\n",
    "    # Setup logging\n",
    "    logger = setup_logging()\n",
    "    \n",
    "    # Initialize configuration\n",
    "    config = Config()\n",
    "    \n",
    "    # Find latest checkpoint if exists\n",
    "    latest_checkpoint = find_latest_checkpoint(config.OUTPUT_DIR)\n",
    "    if latest_checkpoint:\n",
    "        config.RESUME_FROM_CHECKPOINT = str(latest_checkpoint)\n",
    "        logger.info(f\"Found checkpoint: {latest_checkpoint}\")\n",
    "    \n",
    "    # Train model\n",
    "    model, history = train_model(config)\n",
    "    logger.info(\"Training complete!\")\n",
    "\n",
    "if __name__ == \"__main__\":\n",
    "    main()"
   ]
  }
 ],
 "metadata": {
  "kernelspec": {
   "display_name": "Memoria",
   "language": "python",
   "name": "python3"
  },
  "language_info": {
   "codemirror_mode": {
    "name": "ipython",
    "version": 3
   },
   "file_extension": ".py",
   "mimetype": "text/x-python",
   "name": "python",
   "nbconvert_exporter": "python",
   "pygments_lexer": "ipython3",
   "version": "3.11.8"
  }
 },
 "nbformat": 4,
 "nbformat_minor": 5
}
